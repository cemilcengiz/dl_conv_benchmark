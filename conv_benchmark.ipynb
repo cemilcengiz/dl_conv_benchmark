{
 "cells": [
  {
   "cell_type": "code",
   "execution_count": 1,
   "metadata": {},
   "outputs": [
    {
     "name": "stderr",
     "output_type": "stream",
     "text": [
      "/kuacc/users/ccengiz17/.anaconda3/envs/tf_gpu/lib/python3.6/site-packages/tensorflow/python/framework/ops.py:936: DeprecationWarning: builtin type EagerTensor has no __module__ attribute\n",
      "  EagerTensor = c_api.TFE_Py_InitEagerTensor(_EagerTensorBase)\n",
      "/kuacc/users/ccengiz17/.anaconda3/envs/tf_gpu/lib/python3.6/site-packages/tensorflow/python/util/tf_inspect.py:75: DeprecationWarning: inspect.getargspec() is deprecated since Python 3.0, use inspect.signature() or inspect.getfullargspec()\n",
      "  return _inspect.getargspec(target)\n"
     ]
    }
   ],
   "source": [
    "import sys\n",
    "import os\n",
    "#import time\n",
    "from timeit import default_timer as timer\n",
    "# Disable gpu\n",
    "os.environ[\"CUDA_VISIBLE_DEVICES\"]=\"-1\"  \n",
    "\n",
    "import numpy as np\n",
    "from mxnetnet import MXNetNet\n",
    "from pytorchnet import PytorchNet\n",
    "from tfnet import TFNet"
   ]
  },
  {
   "cell_type": "code",
   "execution_count": 2,
   "metadata": {},
   "outputs": [
    {
     "name": "stdout",
     "output_type": "stream",
     "text": [
      "OS:  linux\n",
      "Python:  3.6.8 |Anaconda, Inc.| (default, Dec 30 2018, 01:22:34) \n",
      "[GCC 7.3.0]\n"
     ]
    }
   ],
   "source": [
    "print(\"OS: \", sys.platform)\n",
    "print(\"Python: \", sys.version)"
   ]
  },
  {
   "cell_type": "code",
   "execution_count": 3,
   "metadata": {},
   "outputs": [],
   "source": [
    "class ConvBenchmark:\n",
    "    def __init__(self, **bench_args):\n",
    "        convweights = bench_args[\"convweights\"]\n",
    "        self.conv_filters_ = []\n",
    "        for w in convweights:\n",
    "            w_array = np.random.random(w).astype(np.float32)\n",
    "            self.conv_filters_.append(w_array)        \n",
    "        \n",
    "        if \"poolings\" in bench_args:\n",
    "            self.poolings_ = bench_args[\"poolings\"]\n",
    "        else:\n",
    "            self.poolings_ = False\n",
    "        \n",
    "        self.networks_ = {}\n",
    "        self.networks_[\"pytorch_CNN\"] = PytorchNet(self.conv_filters_, self.poolings_)\n",
    "        self.networks_[\"TF_CNN\"] = TFNet(self.conv_filters_, self.poolings_)\n",
    "        self.networks_[\"MXNet_CNN\"] = MXNetNet(self.conv_filters_, self.poolings_)\n",
    "        \n",
    "        self.input_ = np.random.random(bench_args[\"inputsize\"]).astype(np.float32)\n",
    "        self.results_ = {}\n",
    "        self.printOut_ = False\n",
    "        if \"printOut\" in bench_args:\n",
    "            self.printOut_ = bench_args[\"printOut\"]\n",
    "        \n",
    "    def runNetworks(self, num_experiments=8):\n",
    "        # Pytorch nn.Conv2d takes input a 4D Tensor of [nSamples x nChannels x Height x Width]\n",
    "        # Input is defined in Pytorch layout fashion\n",
    "        for netname, network in self.networks_.items():\n",
    "            t_avg = 0\n",
    "            for i in range(num_experiments):\n",
    "                t0 = timer() #time.time()\n",
    "                output = network.forward(np.copy(self.input_))\n",
    "                _ = output[-1,-1,-1,-1]\n",
    "                t_avg += timer() - t0\n",
    "                #t_avg += time.time() - t0\n",
    "                \n",
    "            t_avg /= num_experiments\n",
    "            self.results_[netname] = {\"output\": output, \"runtime\": t_avg}\n",
    "            if self.printOut_:\n",
    "                print(\"{} took {:.5} seconds.\".format(netname, t_avg))\n",
    "            "
   ]
  },
  {
   "cell_type": "code",
   "execution_count": 4,
   "metadata": {},
   "outputs": [
    {
     "name": "stdout",
     "output_type": "stream",
     "text": [
      "pytorch_CNN took 3.7049 seconds.\n",
      "TF_CNN took 1.9359 seconds.\n",
      "MXNet_CNN took 2.4704 seconds.\n",
      "\n",
      "Results of re-running after cold start:\n",
      "pytorch_CNN took 1.5111 seconds.\n",
      "TF_CNN took 1.536 seconds.\n",
      "MXNet_CNN took 2.5014 seconds.\n"
     ]
    }
   ],
   "source": [
    "# input is a 4D Tensor of [nSamples x nChannels x Height x Width]\n",
    "inBS, inCh, inHeight, inWidth = (128,3,32,32)\n",
    "inputsize = inBS, inCh, inHeight, inWidth\n",
    "\n",
    "# Filters are 4D tensor in form [out_channels, in_channels, fil_height, fil_width]\n",
    "conv1w = (256, 3, 3, 3)\n",
    "conv2w = (512, 256, 3, 3)\n",
    "convweights = (conv1w, conv2w)\n",
    "poolings = (2,2)\n",
    "\n",
    "benchmark = ConvBenchmark(inputsize=inputsize, convweights=convweights, poolings=poolings, printOut=\"True\")\n",
    "benchmark.runNetworks(1)\n",
    "print(\"\\nResults of re-running after cold start:\")\n",
    "benchmark.runNetworks()"
   ]
  },
  {
   "cell_type": "code",
   "execution_count": 5,
   "metadata": {},
   "outputs": [
    {
     "name": "stdout",
     "output_type": "stream",
     "text": [
      "(128, 512, 6, 6)\n",
      "<class 'numpy.ndarray'>\n",
      "(128, 512, 6, 6)\n",
      "<class 'numpy.ndarray'>\n",
      "(128, 512, 6, 6)\n",
      "<class 'numpy.ndarray'>\n"
     ]
    }
   ],
   "source": [
    "pytorch_out = benchmark.results_[\"pytorch_CNN\"][\"output\"]\n",
    "mxnet_out = benchmark.results_[\"MXNet_CNN\"][\"output\"]\n",
    "tf_out = benchmark.results_[\"TF_CNN\"][\"output\"]\n",
    "\n",
    "print(pytorch_out.shape)\n",
    "print(type(pytorch_out))\n",
    "print(mxnet_out.shape)\n",
    "print(type(mxnet_out))\n",
    "print(tf_out.shape)\n",
    "print(type(tf_out))"
   ]
  },
  {
   "cell_type": "code",
   "execution_count": 6,
   "metadata": {},
   "outputs": [
    {
     "name": "stdout",
     "output_type": "stream",
     "text": [
      "[[9012.223 9053.544]\n",
      " [8914.52  8411.925]] \n",
      "\n",
      "[[9012.223 9053.544]\n",
      " [8914.52  8411.925]] \n",
      "\n",
      "[[9012.223 9053.544]\n",
      " [8914.52  8411.925]] \n",
      "\n"
     ]
    }
   ],
   "source": [
    "print(pytorch_out[0,0,0:2,0:2], \"\\n\")\n",
    "print(mxnet_out[0,0,0:2,0:2], \"\\n\")\n",
    "print(tf_out[0,0,0:2,0:2], \"\\n\")"
   ]
  },
  {
   "cell_type": "code",
   "execution_count": 7,
   "metadata": {},
   "outputs": [
    {
     "name": "stdout",
     "output_type": "stream",
     "text": [
      "True\n",
      "True\n",
      "True\n"
     ]
    }
   ],
   "source": [
    "print(np.isclose(mxnet_out, pytorch_out, atol=0.001).all())\n",
    "print(np.isclose(mxnet_out, tf_out, atol=0.001).all())\n",
    "print(np.isclose(tf_out, pytorch_out, atol=0.001).all())"
   ]
  },
  {
   "cell_type": "code",
   "execution_count": null,
   "metadata": {},
   "outputs": [],
   "source": [
    "# delete previous benchmark data to save up space\n",
    "for i in (pytorch_out, mxnet_out, tf_out, benchmark):\n",
    "    del i"
   ]
  },
  {
   "cell_type": "code",
   "execution_count": null,
   "metadata": {},
   "outputs": [],
   "source": [
    "## Plot comparisons for inputs having different spatial dimensions and batch sizes\n",
    "import matplotlib.pyplot as plt"
   ]
  },
  {
   "cell_type": "code",
   "execution_count": null,
   "metadata": {},
   "outputs": [],
   "source": [
    "# input is a 4D Tensor of [nSamples x nChannels x Height x Width]\n",
    "# Filters are 4D tensor in form [out_channels, in_channels, fil_height, fil_width]\n",
    "for j in range(4,7):\n",
    "    in_spat_dim = (2**j, 2**j)\n",
    "    poolings = (2,2)\n",
    "    conv1w = (16, 3, 5, 5)\n",
    "    conv2w = (64, 16, 5, 5)\n",
    "    convweights = (conv1w, conv2w)\n",
    "    in_ch = conv1w[1]\n",
    "    runtimes_no_pool = {\"inputshape\":(in_ch, *in_spat_dim), \"bs_array\":[], \"pytorch_CNN\":[], \"MXNet_CNN\":[], \"TF_CNN\":[]}\n",
    "    runtimes_with_pool = {\"inputshape\":(in_ch, *in_spat_dim), \"bs_array\":[], \"pytorch_CNN\":[], \"MXNet_CNN\":[], \"TF_CNN\":[]}\n",
    "    for i in range(10):\n",
    "        bs = 2**i\n",
    "        runtimes_no_pool[\"bs_array\"].append(bs)\n",
    "        runtimes_with_pool[\"bs_array\"].append(bs)\n",
    "        inputshape = (bs, in_ch, *in_spat_dim)\n",
    "    \n",
    "        benchmark_no_pool = ConvBenchmark(inputsize=inputshape, convweights=convweights)\n",
    "        #benchmark_no_pool.runNetworks() # cold start\n",
    "        benchmark_no_pool.runNetworks()\n",
    "        for cnn_name in (\"pytorch_CNN\", \"MXNet_CNN\", \"TF_CNN\"):\n",
    "            runtimes_no_pool[cnn_name].append(benchmark_no_pool.results_[cnn_name][\"runtime\"])\n",
    "    \n",
    "        benchmark_with_pool = ConvBenchmark(inputsize=inputshape, convweights=convweights, poolings=poolings)\n",
    "        #benchmark_with_pool.runNetworks() # cold start\n",
    "        benchmark_with_pool.runNetworks()\n",
    "        for cnn_name in (\"pytorch_CNN\", \"MXNet_CNN\", \"TF_CNN\"):\n",
    "            runtimes_with_pool[cnn_name].append(benchmark_with_pool.results_[cnn_name][\"runtime\"])\n",
    "            \n",
    "            \n",
    "    plt.figure(2*j-7)\n",
    "    pytorch_plt, = plt.plot(runtimes_no_pool[\"bs_array\"], runtimes_no_pool[\"pytorch_CNN\"], 'g-')\n",
    "    tf_plt, = plt.plot(runtimes_no_pool[\"bs_array\"], runtimes_no_pool[\"TF_CNN\"], 'b-')\n",
    "    mxnet_plt, = plt.plot(runtimes_no_pool[\"bs_array\"], runtimes_no_pool[\"MXNet_CNN\"], '-r')\n",
    "    plt.legend([pytorch_plt, tf_plt, mxnet_plt], [\"PyTorch\", \"TensorFlow\", \"MXNet\"])\n",
    "    plt.xlabel('BatchSize')\n",
    "    plt.ylabel('Time (second)')\n",
    "    in_ch, in_H, in_W = runtimes_no_pool[\"inputshape\"]\n",
    "    plt.title('CPU runtime of conv without pooling for inputshape=({},{},{})'.format(in_ch, in_H, in_W))\n",
    "    plt.savefig('./figures/figure{}.png'.format(2*j-7))\n",
    "    plt.show(block=False)\n",
    "\n",
    "    plt.figure(2*j-6)\n",
    "    pytorch_plt, = plt.plot(runtimes_with_pool[\"bs_array\"], runtimes_with_pool[\"pytorch_CNN\"], 'g-')\n",
    "    tf_plt, = plt.plot(runtimes_with_pool[\"bs_array\"], runtimes_with_pool[\"TF_CNN\"], 'b-')\n",
    "    mxnet_plt, = plt.plot(runtimes_with_pool[\"bs_array\"], runtimes_with_pool[\"MXNet_CNN\"], '-r')\n",
    "    plt.legend([pytorch_plt, tf_plt, mxnet_plt], [\"PyTorch\", \"TensorFlow\", \"MXNet\"])\n",
    "    plt.xlabel('BatchSize')\n",
    "    plt.ylabel('Time (second)')\n",
    "    in_ch, in_H, in_W = runtimes_with_pool[\"inputshape\"]\n",
    "    plt.title('CPU runtime of conv with pooling for inputshape=({},{},{})'.format(in_ch, in_H, in_W))\n",
    "    plt.savefig('./figures/figure{}.png'.format(2*j-6))\n",
    "    plt.show(block=False)"
   ]
  },
  {
   "cell_type": "code",
   "execution_count": null,
   "metadata": {},
   "outputs": [],
   "source": []
  }
 ],
 "metadata": {
  "@webio": {
   "lastCommId": "07ddda820f8647b28b83e34745b8e262",
   "lastKernelId": "c6259c51-c8c1-43bc-b2c1-66cad4dc0122"
  },
  "kernelspec": {
   "display_name": "Python (tf_gpu)",
   "language": "python",
   "name": "tf_gpu"
  },
  "language_info": {
   "codemirror_mode": {
    "name": "ipython",
    "version": 3
   },
   "file_extension": ".py",
   "mimetype": "text/x-python",
   "name": "python",
   "nbconvert_exporter": "python",
   "pygments_lexer": "ipython3",
   "version": "3.6.8"
  }
 },
 "nbformat": 4,
 "nbformat_minor": 2
}
