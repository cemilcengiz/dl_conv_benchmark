{
 "cells": [
  {
   "cell_type": "code",
   "execution_count": 1,
   "metadata": {},
   "outputs": [],
   "source": [
    "import torch\n",
    "import torch.autograd as autograd\n",
    "\n",
    "import numpy as np\n",
    "from pytorchnet import PytorchNet\n",
    "from tfnet import TFNet\n",
    "        \n",
    "# bug: filter reshaping possibly causes incorrect results \n",
    "class ConvBenchmark:\n",
    "    def __init__(self, **bench_args):\n",
    "        convweights = bench_args[\"convweights\"]\n",
    "        self.conv_filters_ = []\n",
    "        #filter_ = autograd.Variable(torch.FloatTensor([[[[-1, 1]]]])).numpy()\n",
    "        for w in convweights:\n",
    "            w_array = np.random.random(w).astype(np.float32)\n",
    "            self.conv_filters_.append(w_array)\n",
    "            #self.conv_filters_.append(filter_)\n",
    "        \n",
    "        \n",
    "        if \"poolings\" in bench_args:\n",
    "            self.poolings_ = bench_args[\"poolings\"]\n",
    "        else:\n",
    "            self.poolings_ = False\n",
    "        \n",
    "        self.networks_ = {}\n",
    "        self.networks_[\"pytorchCNN\"] = PytorchNet(self.conv_filters_, self.poolings_)\n",
    "        self.networks_[\"TF_CNN\"] = TFNet(self.conv_filters_, self.poolings_)\n",
    "        # TODO: self.networks_[\"CNTK_CNN\"] = TFNet(self.conv_filters_, self.poolings_)\n",
    "        \n",
    "        self.input_ = np.random.random(bench_args[\"inputsize\"]).astype(np.float32)\n",
    "        #self.input_ = autograd.Variable(torch.FloatTensor([[[[0,0,0,0,0,0,0], [0, 0, 1, 1, 1, 0, 0], \n",
    "        #                                     [0, 0, 1, 1, 1, 0, 0], [0, 0, 1, 1, 1, 0, 0],\n",
    "        #                                    [0,0,0,0,0,0,0]]]])).numpy()\n",
    "        \n",
    "\n",
    "        self.results_ = {}\n",
    "        \n",
    "    def runNetworks(self):\n",
    "        # Pytorch nn.Conv2d takes input a 4D Tensor of [nSamples x nChannels x Height x Width]\n",
    "        # Input is defined in Pytorch layout fashion\n",
    "        for netname, network in self.networks_.items():\n",
    "            #output, t = network.forward(np.copy(self.input_))\n",
    "            #self.results_[netname] = {\"output\": output, \"runtime\": t}\n",
    "            output, t, conv_filters = network.forward(np.copy(self.input_))\n",
    "            self.results_[netname] = {\"output\": output, \"runtime\": t, \"filters\": conv_filters}\n",
    "\n",
    "            print(\"{} took {:.3} seconds.\".format(netname, t))\n",
    "            \n",
    "        "
   ]
  },
  {
   "cell_type": "code",
   "execution_count": 2,
   "metadata": {},
   "outputs": [],
   "source": [
    "inBS, inCh, inHeight, inWidth = (2,1,32,32)\n",
    "inputsize = inBS, inCh, inHeight, inWidth\n",
    "\n",
    "# Filters are 4D tensor in form [out_channels, in_channels, fil_height, fil_width]\n",
    "conv1w = (6, 1, 5, 5)\n",
    "conv2w = (16, 6, 5, 5)\n",
    "convweights = (conv1w, conv2w)\n",
    "\n",
    "poolings = (2,2)\n",
    "\n",
    "benchmark = ConvBenchmark(inputsize=inputsize, convweights=convweights, poolings=poolings)"
   ]
  },
  {
   "cell_type": "code",
   "execution_count": 3,
   "metadata": {},
   "outputs": [],
   "source": [
    "#benchmark = ConvBenchmark(inputsize=(1,1,5,7), convweights=((2, 1, 3, 3),), poolings=(2,1))"
   ]
  },
  {
   "cell_type": "code",
   "execution_count": 4,
   "metadata": {},
   "outputs": [
    {
     "name": "stdout",
     "output_type": "stream",
     "text": [
      "layer: 0\n",
      "size of x before: torch.Size([2, 1, 32, 32])\n",
      "size of filter : torch.Size([1, 1, 1, 2])\n",
      "size of x after filter: torch.Size([2, 1, 32, 31])\n",
      "size of x after pool: torch.Size([2, 1, 16, 15])\n",
      " \n",
      "layer: 1\n",
      "size of x before: torch.Size([2, 1, 16, 15])\n",
      "size of filter : torch.Size([1, 1, 1, 2])\n",
      "size of x after filter: torch.Size([2, 1, 16, 14])\n",
      "size of x after pool: torch.Size([2, 1, 8, 7])\n",
      " \n",
      "pytorchCNN took 0.0342 seconds.\n",
      "layer: 0\n",
      "size of x before: (2, 32, 32, 1)\n",
      "size of filter : (1, 2, 1, 1)\n",
      "size of x after filter: (2, 32, 31, 1)\n",
      "size of x after pool: (2, 16, 15, 1)\n",
      " \n",
      "layer: 1\n",
      "size of x before: (2, 16, 15, 1)\n",
      "size of filter : (1, 2, 1, 1)\n",
      "size of x after filter: (2, 16, 14, 1)\n",
      "size of x after pool: (2, 8, 7, 1)\n",
      " \n",
      "TF_CNN took 0.034 seconds.\n"
     ]
    }
   ],
   "source": [
    "benchmark.runNetworks()"
   ]
  },
  {
   "cell_type": "code",
   "execution_count": 5,
   "metadata": {},
   "outputs": [],
   "source": [
    "pytorch_out = benchmark.results_[\"pytorchCNN\"][\"output\"]\n",
    "tf_out = benchmark.results_[\"TF_CNN\"][\"output\"]"
   ]
  },
  {
   "cell_type": "code",
   "execution_count": 6,
   "metadata": {},
   "outputs": [
    {
     "name": "stdout",
     "output_type": "stream",
     "text": [
      "(2, 8, 7, 1)\n",
      "<class 'numpy.ndarray'>\n"
     ]
    }
   ],
   "source": [
    "#tf_out = tf_out.reshape(pytorch_out.shape)\n",
    "print(tf_out.shape)\n",
    "print(type(tf_out))"
   ]
  },
  {
   "cell_type": "code",
   "execution_count": 7,
   "metadata": {},
   "outputs": [
    {
     "name": "stdout",
     "output_type": "stream",
     "text": [
      "(2, 1, 8, 7)\n",
      "<class 'numpy.ndarray'>\n"
     ]
    }
   ],
   "source": [
    "print(pytorch_out.shape)\n",
    "print(type(pytorch_out))"
   ]
  },
  {
   "cell_type": "code",
   "execution_count": 8,
   "metadata": {},
   "outputs": [
    {
     "data": {
      "text/plain": [
       "array([[[[ 2.67966318,  2.71471167,  3.09804201,  3.14122438,  2.81473494,\n",
       "           2.96181679,  2.58565712],\n",
       "         [ 3.12691641,  2.1866827 ,  2.7761898 ,  2.26824212,  2.73713684,\n",
       "           2.81289315,  2.91775513],\n",
       "         [ 3.12841392,  2.89322925,  3.01870632,  3.053334  ,  2.84481311,\n",
       "           2.82143736,  2.68490744],\n",
       "         [ 2.96692824,  2.95226693,  3.13295245,  2.92523575,  2.81548882,\n",
       "           2.28427792,  2.45197725],\n",
       "         [ 2.70435309,  2.93887663,  2.17372704,  2.8330605 ,  2.66174412,\n",
       "           2.73455477,  2.72392917],\n",
       "         [ 2.97445297,  2.6484437 ,  2.73997498,  2.8487134 ,  3.0648818 ,\n",
       "           2.79223418,  2.95389986],\n",
       "         [ 2.64321113,  2.6719017 ,  2.65850353,  2.86545253,  3.06777239,\n",
       "           2.53444052,  3.12648726],\n",
       "         [ 2.39312887,  2.61828184,  2.46704364,  2.68779182,  2.52999473,\n",
       "           2.65342593,  2.6569376 ]]],\n",
       "\n",
       "\n",
       "       [[[ 2.55437446,  2.18620157,  2.92404032,  2.51848865,  3.03364325,\n",
       "           2.94478345,  2.71921396],\n",
       "         [ 2.6120894 ,  2.51756978,  3.1322732 ,  2.87292814,  2.65472388,\n",
       "           2.93077636,  3.02409482],\n",
       "         [ 2.6371634 ,  3.01563191,  2.67588162,  3.01321769,  3.1499126 ,\n",
       "           2.51127934,  3.0205977 ],\n",
       "         [ 2.5625546 ,  2.86171746,  2.98911047,  2.68746638,  2.72940874,\n",
       "           2.75031161,  2.9839685 ],\n",
       "         [ 2.97440171,  2.72475171,  2.68435884,  2.87516093,  3.01771641,\n",
       "           3.05679607,  3.08731437],\n",
       "         [ 2.57919788,  2.97390008,  2.91868544,  2.46741199,  2.95637345,\n",
       "           2.53632402,  2.6901722 ],\n",
       "         [ 2.93839645,  3.09486508,  2.41912222,  3.1260972 ,  3.05057096,\n",
       "           2.82045388,  2.66797566],\n",
       "         [ 2.3465066 ,  2.63647914,  2.92493296,  2.82745218,  2.17950583,\n",
       "           2.82458329,  2.63587189]]]], dtype=float32)"
      ]
     },
     "execution_count": 8,
     "metadata": {},
     "output_type": "execute_result"
    }
   ],
   "source": [
    "pytorch_out"
   ]
  },
  {
   "cell_type": "code",
   "execution_count": 9,
   "metadata": {},
   "outputs": [
    {
     "data": {
      "text/plain": [
       "array([[[[ 2.67966318],\n",
       "         [ 2.71471167],\n",
       "         [ 3.09804201],\n",
       "         [ 3.14122438],\n",
       "         [ 2.81473494],\n",
       "         [ 2.96181679],\n",
       "         [ 2.58565712]],\n",
       "\n",
       "        [[ 3.12691641],\n",
       "         [ 2.1866827 ],\n",
       "         [ 2.7761898 ],\n",
       "         [ 2.26824212],\n",
       "         [ 2.73713684],\n",
       "         [ 2.81289315],\n",
       "         [ 2.91775513]],\n",
       "\n",
       "        [[ 3.12841392],\n",
       "         [ 2.89322925],\n",
       "         [ 3.01870632],\n",
       "         [ 3.053334  ],\n",
       "         [ 2.84481311],\n",
       "         [ 2.82143736],\n",
       "         [ 2.68490744]],\n",
       "\n",
       "        [[ 2.96692824],\n",
       "         [ 2.95226693],\n",
       "         [ 3.13295245],\n",
       "         [ 2.92523575],\n",
       "         [ 2.81548882],\n",
       "         [ 2.28427792],\n",
       "         [ 2.45197725]],\n",
       "\n",
       "        [[ 2.70435309],\n",
       "         [ 2.93887663],\n",
       "         [ 2.17372704],\n",
       "         [ 2.8330605 ],\n",
       "         [ 2.66174412],\n",
       "         [ 2.73455477],\n",
       "         [ 2.72392917]],\n",
       "\n",
       "        [[ 2.97445297],\n",
       "         [ 2.6484437 ],\n",
       "         [ 2.73997498],\n",
       "         [ 2.8487134 ],\n",
       "         [ 3.0648818 ],\n",
       "         [ 2.79223418],\n",
       "         [ 2.95389986]],\n",
       "\n",
       "        [[ 2.64321113],\n",
       "         [ 2.6719017 ],\n",
       "         [ 2.65850353],\n",
       "         [ 2.86545253],\n",
       "         [ 3.06777239],\n",
       "         [ 2.53444052],\n",
       "         [ 3.12648726]],\n",
       "\n",
       "        [[ 2.39312887],\n",
       "         [ 2.61828184],\n",
       "         [ 2.46704364],\n",
       "         [ 2.68779182],\n",
       "         [ 2.52999473],\n",
       "         [ 2.65342593],\n",
       "         [ 2.6569376 ]]],\n",
       "\n",
       "\n",
       "       [[[ 2.55437446],\n",
       "         [ 2.18620157],\n",
       "         [ 2.92404032],\n",
       "         [ 2.51848865],\n",
       "         [ 3.03364325],\n",
       "         [ 2.94478345],\n",
       "         [ 2.71921396]],\n",
       "\n",
       "        [[ 2.6120894 ],\n",
       "         [ 2.51756978],\n",
       "         [ 3.1322732 ],\n",
       "         [ 2.87292814],\n",
       "         [ 2.65472388],\n",
       "         [ 2.93077636],\n",
       "         [ 3.02409482]],\n",
       "\n",
       "        [[ 2.6371634 ],\n",
       "         [ 3.01563191],\n",
       "         [ 2.67588162],\n",
       "         [ 3.01321769],\n",
       "         [ 3.1499126 ],\n",
       "         [ 2.51127934],\n",
       "         [ 3.0205977 ]],\n",
       "\n",
       "        [[ 2.5625546 ],\n",
       "         [ 2.86171746],\n",
       "         [ 2.98911047],\n",
       "         [ 2.68746638],\n",
       "         [ 2.72940874],\n",
       "         [ 2.75031161],\n",
       "         [ 2.9839685 ]],\n",
       "\n",
       "        [[ 2.97440171],\n",
       "         [ 2.72475171],\n",
       "         [ 2.68435884],\n",
       "         [ 2.87516093],\n",
       "         [ 3.01771641],\n",
       "         [ 3.05679607],\n",
       "         [ 3.08731437]],\n",
       "\n",
       "        [[ 2.57919788],\n",
       "         [ 2.97390008],\n",
       "         [ 2.91868544],\n",
       "         [ 2.46741199],\n",
       "         [ 2.95637345],\n",
       "         [ 2.53632402],\n",
       "         [ 2.6901722 ]],\n",
       "\n",
       "        [[ 2.93839645],\n",
       "         [ 3.09486508],\n",
       "         [ 2.41912222],\n",
       "         [ 3.1260972 ],\n",
       "         [ 3.05057096],\n",
       "         [ 2.82045388],\n",
       "         [ 2.66797566]],\n",
       "\n",
       "        [[ 2.3465066 ],\n",
       "         [ 2.63647914],\n",
       "         [ 2.92493296],\n",
       "         [ 2.82745218],\n",
       "         [ 2.17950583],\n",
       "         [ 2.82458329],\n",
       "         [ 2.63587189]]]], dtype=float32)"
      ]
     },
     "execution_count": 9,
     "metadata": {},
     "output_type": "execute_result"
    }
   ],
   "source": [
    "tf_out"
   ]
  },
  {
   "cell_type": "code",
   "execution_count": 10,
   "metadata": {},
   "outputs": [
    {
     "data": {
      "text/plain": [
       "True"
      ]
     },
     "execution_count": 10,
     "metadata": {},
     "output_type": "execute_result"
    }
   ],
   "source": [
    "#atol: abs tolerance\n",
    "#np.isclose([1.777774, 1.0003], [1.777772, 1.0001], atol=0.001) -> [True False]\n",
    "#np.isclose([1.777774, 1.0003], [1.777772, 1.01], atol=0.001).all() -> False\n",
    "tf_out = tf_out.reshape(pytorch_out.shape)\n",
    "np.isclose(tf_out, pytorch_out, atol=0.001).all()"
   ]
  },
  {
   "cell_type": "code",
   "execution_count": 11,
   "metadata": {},
   "outputs": [],
   "source": [
    "pytorch_fils = benchmark.results_[\"pytorchCNN\"][\"filters\"]\n",
    "tf_fils = benchmark.results_[\"TF_CNN\"][\"filters\"]"
   ]
  },
  {
   "cell_type": "code",
   "execution_count": 12,
   "metadata": {},
   "outputs": [
    {
     "data": {
      "text/plain": [
       "[tensor([[[[-0.3103,  1.8064]]]]), tensor([[[[-0.2114,  1.9227]]]])]"
      ]
     },
     "execution_count": 12,
     "metadata": {},
     "output_type": "execute_result"
    }
   ],
   "source": [
    "pytorch_fils"
   ]
  },
  {
   "cell_type": "code",
   "execution_count": 13,
   "metadata": {},
   "outputs": [
    {
     "data": {
      "text/plain": [
       "[array([[[[-0.31027031]],\n",
       " \n",
       "         [[ 1.80641842]]]], dtype=float32), array([[[[-0.21142304]],\n",
       " \n",
       "         [[ 1.92265344]]]], dtype=float32)]"
      ]
     },
     "execution_count": 13,
     "metadata": {},
     "output_type": "execute_result"
    }
   ],
   "source": [
    "tf_fils"
   ]
  },
  {
   "cell_type": "code",
   "execution_count": 14,
   "metadata": {},
   "outputs": [
    {
     "data": {
      "text/plain": [
       "2"
      ]
     },
     "execution_count": 14,
     "metadata": {},
     "output_type": "execute_result"
    }
   ],
   "source": [
    "        # TF conv.2d takes filter as a 4D Tensor of  [fil_height, fil_width, in_channels, out_channels] \n",
    "len(tf_fils[0][0])"
   ]
  },
  {
   "cell_type": "code",
   "execution_count": 15,
   "metadata": {},
   "outputs": [],
   "source": [
    "import torch\n",
    "import torch.autograd as autograd\n",
    "\n",
    "\n"
   ]
  },
  {
   "cell_type": "code",
   "execution_count": 16,
   "metadata": {},
   "outputs": [],
   "source": [
    "filters = autograd.Variable(torch.FloatTensor([[[[-1, 1]]]])).numpy()"
   ]
  },
  {
   "cell_type": "code",
   "execution_count": 17,
   "metadata": {},
   "outputs": [],
   "source": [
    "input_tensor = autograd.Variable(torch.FloatTensor([[[[0,0,0,0,0,0,0], [0, 0, 1, 1, 1, 0, 0], \n",
    "                                             [0, 0, 1, 1, 1, 0, 0], [0, 0, 1, 1, 1, 0, 0],\n",
    "                                            [0,0,0,0,0,0,0]]]])).numpy()"
   ]
  },
  {
   "cell_type": "code",
   "execution_count": null,
   "metadata": {},
   "outputs": [],
   "source": []
  }
 ],
 "metadata": {
  "@webio": {
   "lastCommId": "f3908afac94c4e8bb33aef68218b3553",
   "lastKernelId": "d9b2104d-5305-4340-9bdd-292c52dc0259"
  },
  "kernelspec": {
   "display_name": "Python (dl_frameworks)",
   "language": "python",
   "name": "dl_frameworks"
  },
  "language_info": {
   "codemirror_mode": {
    "name": "ipython",
    "version": 3
   },
   "file_extension": ".py",
   "mimetype": "text/x-python",
   "name": "python",
   "nbconvert_exporter": "python",
   "pygments_lexer": "ipython3",
   "version": "3.6.8"
  }
 },
 "nbformat": 4,
 "nbformat_minor": 2
}
