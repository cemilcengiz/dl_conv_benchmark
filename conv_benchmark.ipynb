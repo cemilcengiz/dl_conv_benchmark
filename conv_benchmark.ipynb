{
 "cells": [
  {
   "cell_type": "code",
   "execution_count": 1,
   "metadata": {},
   "outputs": [],
   "source": [
    "import numpy as np\n",
    "from pytorchnet import PytorchNet\n",
    "        \n",
    "class ConvBenchmark:\n",
    "    def __init__(self, **bench_args):\n",
    "        self.convweights_ = bench_args[\"convweights\"]\n",
    "        if \"poolings\" in bench_args:\n",
    "            self.poolings_ = bench_args[\"poolings\"]\n",
    "        else:\n",
    "            self.poolings_ = False\n",
    "        \n",
    "        self.networks_ = {}\n",
    "        self.networks_[\"pytorchCNN\"] = PytorchNet(self.convweights_, self.poolings_)\n",
    "        # TODO: self.networks_[\"tensorflowCNN\"] = TensorflowNet(self.convweights_, self.poolings_)\n",
    "        \n",
    "        \n",
    "        self.input_ = np.random.random(bench_args[\"inputsize\"]).astype(np.float32)\n",
    "        self.runtimes_ = {}\n",
    "        \n",
    "    def computeTime(self):\n",
    "        for netname, network in self.networks_.items():\n",
    "            result, t = network.forward(self.input_)\n",
    "            self.runtimes_[netname] = {(\"result\", result), (\"runtime\", t)}\n",
    "            \n",
    "            print(\"{} took {:.3} seconds.\".format(netname, t))\n",
    "            \n",
    "        "
   ]
  },
  {
   "cell_type": "code",
   "execution_count": 2,
   "metadata": {},
   "outputs": [],
   "source": [
    "# nn.Conv2d will take in a 4D Tensor of nSamples x nChannels x Height x Width\n",
    "\n",
    "inputsize = (2,1,32,32)\n",
    "convweights = ((1, 6, 5), (6, 16, 5))\n",
    "poolings = (2,2)\n",
    "benchmark = ConvBenchmark(inputsize=inputsize, convweights=convweights, poolings=poolings)"
   ]
  },
  {
   "cell_type": "code",
   "execution_count": 3,
   "metadata": {},
   "outputs": [
    {
     "name": "stdout",
     "output_type": "stream",
     "text": [
      "pytorchCNN took 0.0799 seconds.\n"
     ]
    }
   ],
   "source": [
    "benchmark.computeTime()"
   ]
  },
  {
   "cell_type": "code",
   "execution_count": null,
   "metadata": {},
   "outputs": [],
   "source": []
  }
 ],
 "metadata": {
  "@webio": {
   "lastCommId": "3b535efbc5af43d09980ad4d9965eb37",
   "lastKernelId": "5aff3c94-8a38-4f93-a226-c1e036459477"
  },
  "kernelspec": {
   "display_name": "Python 3",
   "language": "python",
   "name": "python3"
  },
  "language_info": {
   "codemirror_mode": {
    "name": "ipython",
    "version": 3
   },
   "file_extension": ".py",
   "mimetype": "text/x-python",
   "name": "python",
   "nbconvert_exporter": "python",
   "pygments_lexer": "ipython3",
   "version": "3.7.2"
  }
 },
 "nbformat": 4,
 "nbformat_minor": 2
}
