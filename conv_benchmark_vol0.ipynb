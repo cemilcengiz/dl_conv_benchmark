{
 "cells": [
  {
   "cell_type": "code",
   "execution_count": 1,
   "metadata": {},
   "outputs": [],
   "source": [
    "import numpy as np\n",
    "from pytorchnet import PytorchNet\n",
    "        \n",
    "class ConvBenchmark:\n",
    "    def __init__(self, **bench_args):\n",
    "        self.convweights_ = bench_args[\"convweights\"]\n",
    "        if \"poolings\" in bench_args:\n",
    "            self.poolings_ = bench_args[\"poolings\"]\n",
    "        else:\n",
    "            self.poolings_ = False\n",
    "        \n",
    "        self.networks_ = {}\n",
    "        self.networks_[\"pytorchCNN\"] = PytorchNet(self.convweights_, self.poolings_)\n",
    "        \n",
    "        # TODO: self.networks_[\"tensorflowCNN\"] = TFNet(self.convweights_, self.poolings_)\n",
    "        #self.networks_[\"tensorflowCNN\"] = TFNet(self.convweights_, self.poolings_)\n",
    "        \n",
    "        self.input_ = np.random.random(bench_args[\"inputsize\"]).astype(np.float32)\n",
    "        self.runtimes_ = {}\n",
    "        \n",
    "    def computeTime(self):\n",
    "        # Pytorch nn.Conv2d takes input a 4D Tensor of [nSamples x nChannels x Height x Width]\n",
    "        # Input is defined in Pytorch layout fashion\n",
    "        for netname, network in self.networks_.items():\n",
    "            result, t = network.forward(np.copy(self.input_))\n",
    "            self.runtimes_[netname] = {(\"result\", result), (\"runtime\", t)}\n",
    "            \n",
    "            print(\"{} took {:.3} seconds.\".format(netname, t))\n",
    "            \n",
    "        "
   ]
  },
  {
   "cell_type": "code",
   "execution_count": 2,
   "metadata": {},
   "outputs": [
    {
     "ename": "TypeError",
     "evalue": "__init__() missing 2 required positional arguments: 'out_channels' and 'kernel_size'",
     "output_type": "error",
     "traceback": [
      "\u001b[0;31m---------------------------------------------------------------------------\u001b[0m",
      "\u001b[0;31mTypeError\u001b[0m                                 Traceback (most recent call last)",
      "\u001b[0;32m<ipython-input-2-4a12a4973355>\u001b[0m in \u001b[0;36m<module>\u001b[0;34m()\u001b[0m\n\u001b[1;32m     10\u001b[0m \u001b[0mpoolings\u001b[0m \u001b[0;34m=\u001b[0m \u001b[0;34m(\u001b[0m\u001b[0;36m2\u001b[0m\u001b[0;34m,\u001b[0m\u001b[0;36m2\u001b[0m\u001b[0;34m)\u001b[0m\u001b[0;34m\u001b[0m\u001b[0;34m\u001b[0m\u001b[0m\n\u001b[1;32m     11\u001b[0m \u001b[0;34m\u001b[0m\u001b[0m\n\u001b[0;32m---> 12\u001b[0;31m \u001b[0mbenchmark\u001b[0m \u001b[0;34m=\u001b[0m \u001b[0mConvBenchmark\u001b[0m\u001b[0;34m(\u001b[0m\u001b[0minputsize\u001b[0m\u001b[0;34m=\u001b[0m\u001b[0minputsize\u001b[0m\u001b[0;34m,\u001b[0m \u001b[0mconvweights\u001b[0m\u001b[0;34m=\u001b[0m\u001b[0mconvweights\u001b[0m\u001b[0;34m,\u001b[0m \u001b[0mpoolings\u001b[0m\u001b[0;34m=\u001b[0m\u001b[0mpoolings\u001b[0m\u001b[0;34m)\u001b[0m\u001b[0;34m\u001b[0m\u001b[0;34m\u001b[0m\u001b[0m\n\u001b[0m",
      "\u001b[0;32m<ipython-input-1-1002d849b6d3>\u001b[0m in \u001b[0;36m__init__\u001b[0;34m(self, **bench_args)\u001b[0m\n\u001b[1;32m     11\u001b[0m \u001b[0;34m\u001b[0m\u001b[0m\n\u001b[1;32m     12\u001b[0m         \u001b[0mself\u001b[0m\u001b[0;34m.\u001b[0m\u001b[0mnetworks_\u001b[0m \u001b[0;34m=\u001b[0m \u001b[0;34m{\u001b[0m\u001b[0;34m}\u001b[0m\u001b[0;34m\u001b[0m\u001b[0;34m\u001b[0m\u001b[0m\n\u001b[0;32m---> 13\u001b[0;31m         \u001b[0mself\u001b[0m\u001b[0;34m.\u001b[0m\u001b[0mnetworks_\u001b[0m\u001b[0;34m[\u001b[0m\u001b[0;34m\"pytorchCNN\"\u001b[0m\u001b[0;34m]\u001b[0m \u001b[0;34m=\u001b[0m \u001b[0mPytorchNet\u001b[0m\u001b[0;34m(\u001b[0m\u001b[0mself\u001b[0m\u001b[0;34m.\u001b[0m\u001b[0mconvweights_\u001b[0m\u001b[0;34m,\u001b[0m \u001b[0mself\u001b[0m\u001b[0;34m.\u001b[0m\u001b[0mpoolings_\u001b[0m\u001b[0;34m)\u001b[0m\u001b[0;34m\u001b[0m\u001b[0;34m\u001b[0m\u001b[0m\n\u001b[0m\u001b[1;32m     14\u001b[0m \u001b[0;34m\u001b[0m\u001b[0m\n\u001b[1;32m     15\u001b[0m         \u001b[0;31m# TODO: self.networks_[\"tensorflowCNN\"] = TFNet(self.convweights_, self.poolings_)\u001b[0m\u001b[0;34m\u001b[0m\u001b[0;34m\u001b[0m\u001b[0;34m\u001b[0m\u001b[0m\n",
      "\u001b[0;32m/scratch/users/ccengiz17/CONV_BENCHMARK/dl_conv_benchmark/pytorchnet.py\u001b[0m in \u001b[0;36m__init__\u001b[0;34m(self, convweights, poolings)\u001b[0m\n\u001b[1;32m     16\u001b[0m             \u001b[0mw_tensor\u001b[0m \u001b[0;34m=\u001b[0m \u001b[0mnp\u001b[0m\u001b[0;34m.\u001b[0m\u001b[0mrandom\u001b[0m\u001b[0;34m.\u001b[0m\u001b[0mrandom\u001b[0m\u001b[0;34m(\u001b[0m\u001b[0mw\u001b[0m\u001b[0;34m)\u001b[0m\u001b[0;34m.\u001b[0m\u001b[0mastype\u001b[0m\u001b[0;34m(\u001b[0m\u001b[0mnp\u001b[0m\u001b[0;34m.\u001b[0m\u001b[0mfloat32\u001b[0m\u001b[0;34m)\u001b[0m\u001b[0;34m\u001b[0m\u001b[0;34m\u001b[0m\u001b[0m\n\u001b[1;32m     17\u001b[0m             \u001b[0mw_tensor\u001b[0m \u001b[0;34m=\u001b[0m \u001b[0mtorch\u001b[0m\u001b[0;34m.\u001b[0m\u001b[0mtensor\u001b[0m\u001b[0;34m(\u001b[0m\u001b[0mw_tensor\u001b[0m\u001b[0;34m,\u001b[0m \u001b[0mdtype\u001b[0m\u001b[0;34m=\u001b[0m\u001b[0mtorch\u001b[0m\u001b[0;34m.\u001b[0m\u001b[0mfloat32\u001b[0m\u001b[0;34m)\u001b[0m\u001b[0;34m\u001b[0m\u001b[0;34m\u001b[0m\u001b[0m\n\u001b[0;32m---> 18\u001b[0;31m             \u001b[0mconv_op\u001b[0m \u001b[0;34m=\u001b[0m \u001b[0mnn\u001b[0m\u001b[0;34m.\u001b[0m\u001b[0mConv2d\u001b[0m\u001b[0;34m(\u001b[0m\u001b[0mw_tensor\u001b[0m\u001b[0;34m,\u001b[0m \u001b[0mstride\u001b[0m\u001b[0;34m=\u001b[0m\u001b[0;36m1\u001b[0m\u001b[0;34m,\u001b[0m \u001b[0mpadding\u001b[0m\u001b[0;34m=\u001b[0m\u001b[0;36m0\u001b[0m\u001b[0;34m)\u001b[0m\u001b[0;34m\u001b[0m\u001b[0;34m\u001b[0m\u001b[0m\n\u001b[0m\u001b[1;32m     19\u001b[0m \u001b[0;34m\u001b[0m\u001b[0m\n\u001b[1;32m     20\u001b[0m             \u001b[0;31m#conv_op = nn.Conv2d(w[0], w[1], kernel_size=w[2], stride=1, padding=0)\u001b[0m\u001b[0;34m\u001b[0m\u001b[0;34m\u001b[0m\u001b[0;34m\u001b[0m\u001b[0m\n",
      "\u001b[0;31mTypeError\u001b[0m: __init__() missing 2 required positional arguments: 'out_channels' and 'kernel_size'"
     ]
    }
   ],
   "source": [
    "inBS, inCh, inHeight, inWidth = (2,1,32,32)\n",
    "inputsize = inBS, inCh, inHeight, inWidth\n",
    "\n",
    "#conv1w = (1, 6, (5, 5))\n",
    "#conv2w = (6, 16, (5, 5))\n",
    "conv1w = (1, 6, 5, 5)\n",
    "conv2w = (6, 16, 5, 5)\n",
    "convweights = (conv1w, conv2w)\n",
    "\n",
    "poolings = (2,2)\n",
    "\n",
    "benchmark = ConvBenchmark(inputsize=inputsize, convweights=convweights, poolings=poolings)"
   ]
  },
  {
   "cell_type": "code",
   "execution_count": null,
   "metadata": {},
   "outputs": [],
   "source": [
    "benchmark.computeTime()"
   ]
  },
  {
   "cell_type": "code",
   "execution_count": null,
   "metadata": {},
   "outputs": [],
   "source": []
  }
 ],
 "metadata": {
  "@webio": {
   "lastCommId": "68837726cec048ea999ecdfef157112d",
   "lastKernelId": "bd07d985-9e08-4abb-9f70-97e55f36f1cc"
  },
  "kernelspec": {
   "display_name": "Python 3",
   "language": "python",
   "name": "python3"
  },
  "language_info": {
   "codemirror_mode": {
    "name": "ipython",
    "version": 3
   },
   "file_extension": ".py",
   "mimetype": "text/x-python",
   "name": "python",
   "nbconvert_exporter": "python",
   "pygments_lexer": "ipython3",
   "version": "3.7.2"
  }
 },
 "nbformat": 4,
 "nbformat_minor": 2
}
